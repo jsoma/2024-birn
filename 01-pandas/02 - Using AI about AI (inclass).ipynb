{
 "cells": [
  {
   "cell_type": "markdown",
   "id": "3d6f65f3-17c1-41c6-8a8d-63af5bf111e0",
   "metadata": {},
   "source": [
    "## Now that we know a little Python: using AI as a helper\n",
    "\n",
    "Let's see if we can use [ChatGPT](https://chat.openai.com/) to walk us through how to do a complicated problem.\n",
    "\n",
    "In April 2024, the Washington Post published [Inside the secret list of websites that make AI like ChatGPT sound smart\n",
    "](https://www.washingtonpost.com/technology/interactive/2023/ai-chatbot-learning/). This story analyzed the [C4 dataset](https://huggingface.co/datasets/allenai/c4), a selection of data that's part of the training process for large language models like ChatGPT.\n",
    "\n",
    "It showed how much content was from Wikipedia, whether business or hobby websites were more popular, and even included a tool that allowed you to search whether your website was included in the dataset.\n",
    "\n",
    "Let's see if we can do our own analysis! We're going to use the C4M dataset, which is the multilingual version."
   ]
  },
  {
   "cell_type": "code",
   "execution_count": null,
   "id": "107ecf2d-a154-4ab9-8feb-df184f82c0f8",
   "metadata": {},
   "outputs": [],
   "source": [
    "import pandas as pd\n",
    "pd.options.display.max_colwidth = 400\n",
    "\n",
    "# We're using a CSV right from the internet, but you can visit the URL if you'd like\n",
    "df = pd.read_csv(\"https://raw.githubusercontent.com/jsoma/2024-birn/main/01-pandas/c4m-tiny-sample.csv\", nrows=3000)\n",
    "df.head(10)"
   ]
  },
  {
   "cell_type": "markdown",
   "id": "03c4a1bf-ddec-44e8-916b-74a17918d6a5",
   "metadata": {},
   "source": [
    "## Let's get crazy\n",
    "\n",
    "What langage is each one of these in? Let's get crazy by [seeing what ChatGPT can help us do](https://chatgpt.com/). This will be an exercise in asking specific questions, troubleshooting problems, and having a back-and-forth conversation with AI tools."
   ]
  },
  {
   "cell_type": "code",
   "execution_count": null,
   "id": "13d019f4-1d9c-49c8-b78f-f9c1611caaa3",
   "metadata": {},
   "outputs": [],
   "source": [
    "import pandas as pd\n",
    "\n",
    "df = pd.read_csv(\"c"
   ]
  }
 ],
 "metadata": {
  "kernelspec": {
   "display_name": "Python 3 (ipykernel)",
   "language": "python",
   "name": "python3"
  },
  "language_info": {
   "codemirror_mode": {
    "name": "ipython",
    "version": 3
   },
   "file_extension": ".py",
   "mimetype": "text/x-python",
   "name": "python",
   "nbconvert_exporter": "python",
   "pygments_lexer": "ipython3",
   "version": "3.10.13"
  }
 },
 "nbformat": 4,
 "nbformat_minor": 5
}
