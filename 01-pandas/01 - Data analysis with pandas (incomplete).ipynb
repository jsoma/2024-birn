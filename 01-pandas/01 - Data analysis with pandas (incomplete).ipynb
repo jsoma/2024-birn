{
 "cells": [
  {
   "cell_type": "markdown",
   "id": "c8e1cb81-6b9e-4e41-abfb-03bb410afbd9",
   "metadata": {},
   "source": [
    "# Data analysis basics with pandas\n",
    "\n",
    "## Installation\n",
    "\n",
    "Even though we have Python installed, we still need to install some extra pieces of software! Python is a whole ecosystem of content, where many of the best abilities are from packages/libraries/modules that are made by other people or companies."
   ]
  },
  {
   "cell_type": "code",
   "execution_count": null,
   "id": "809881f7-aac6-4439-858a-b7102db80d55",
   "metadata": {},
   "outputs": [],
   "source": [
    "%pip install --quiet pandas altair lxml tqdm requests"
   ]
  },
  {
   "cell_type": "markdown",
   "id": "8a141ce1-e4b9-4226-b3cb-01ff5e7722ca",
   "metadata": {},
   "source": [
    "## Using pandas\n",
    "\n",
    "To use pandas, we first need to **import it**. Then we can go ahead with reading in our data and analyzing it."
   ]
  },
  {
   "cell_type": "code",
   "execution_count": null,
   "id": "d5829cf1-c9f4-43b2-bbe9-9d7320e22eb4",
   "metadata": {},
   "outputs": [],
   "source": [
    "import pandas as pd\n",
    "\n",
    "# This creates a \"dataframe\" - the Python version of a spreadsheet\n",
    "# We're using a CSV right from the internet, but you can also use it on your own computer\n",
    "df = pd.read_csv(\"https://raw.githubusercontent.com/jsoma/2024-birn/main/01-pandas/countries.csv\")\n",
    "df"
   ]
  },
  {
   "cell_type": "code",
   "execution_count": null,
   "id": "6bc7b32b-f310-46b5-9ef7-0564c19aa9cb",
   "metadata": {},
   "outputs": [],
   "source": []
  },
  {
   "cell_type": "code",
   "execution_count": null,
   "id": "0c6339f8-66a0-4bb7-9ec3-e4859a0cd716",
   "metadata": {},
   "outputs": [],
   "source": []
  },
  {
   "cell_type": "code",
   "execution_count": null,
   "id": "a1474af7-4975-4fca-b2c5-5f8e66002f2b",
   "metadata": {},
   "outputs": [],
   "source": []
  },
  {
   "cell_type": "code",
   "execution_count": null,
   "id": "fb0e29a3-e7a9-4d9b-b805-db782cc6b93f",
   "metadata": {},
   "outputs": [],
   "source": []
  },
  {
   "cell_type": "code",
   "execution_count": null,
   "id": "22c1f757-312c-4e5b-b8a8-dfe71546c5d0",
   "metadata": {},
   "outputs": [],
   "source": []
  },
  {
   "cell_type": "code",
   "execution_count": null,
   "id": "1a4a91fd-e63c-4ae6-af9b-03a43811fb32",
   "metadata": {},
   "outputs": [],
   "source": []
  },
  {
   "cell_type": "code",
   "execution_count": null,
   "id": "dcbb30dd-1e51-4409-b285-c1b45e1d3644",
   "metadata": {},
   "outputs": [],
   "source": []
  },
  {
   "cell_type": "code",
   "execution_count": null,
   "id": "070755cf-44fc-4551-8bf8-9a5604dc8a12",
   "metadata": {},
   "outputs": [],
   "source": []
  },
  {
   "cell_type": "code",
   "execution_count": null,
   "id": "333edf4f-a80e-4930-b56e-5a67e6c7ec73",
   "metadata": {},
   "outputs": [],
   "source": []
  },
  {
   "cell_type": "code",
   "execution_count": null,
   "id": "c5d49741-731f-4fc1-bd7d-9cf570e0add9",
   "metadata": {},
   "outputs": [],
   "source": []
  },
  {
   "cell_type": "code",
   "execution_count": null,
   "id": "bdf48cc6-e37f-43f1-a7d0-87b4ddccacba",
   "metadata": {},
   "outputs": [],
   "source": []
  },
  {
   "cell_type": "code",
   "execution_count": null,
   "id": "c8732848-c4d9-40c4-a851-4c6849c30391",
   "metadata": {},
   "outputs": [],
   "source": []
  },
  {
   "cell_type": "code",
   "execution_count": null,
   "id": "a766914a-4f44-4b43-9d39-997907541214",
   "metadata": {},
   "outputs": [],
   "source": []
  },
  {
   "cell_type": "code",
   "execution_count": null,
   "id": "094e6174-a15e-4739-8838-812453358ffa",
   "metadata": {},
   "outputs": [],
   "source": []
  },
  {
   "cell_type": "markdown",
   "id": "fdfeddf9-8bdb-4fba-bc44-f74c352bf987",
   "metadata": {},
   "source": [
    "## Saving\n",
    "\n",
    "When you save your CSV, you always need to include `index=False`. If you don't, you get extra unnamed columns that are irritating to you and your coworkers!"
   ]
  },
  {
   "cell_type": "code",
   "execution_count": null,
   "id": "46b6bf90-8935-4451-adee-91c355cd12ba",
   "metadata": {},
   "outputs": [],
   "source": []
  },
  {
   "cell_type": "markdown",
   "id": "4a95bc88-155b-49fa-8101-98a78be7812a",
   "metadata": {},
   "source": [
    "## Graphing\n",
    "\n",
    "There's a good way to graph and a bad way to graph: the default is [matplotlib](https://matplotlib.org/), which is 100% the worst. A great alternative is [Altair](https://altair-viz.github.io/gallery/index.html), which is more useful and produces prettier (and interactive!) graphics."
   ]
  },
  {
   "cell_type": "code",
   "execution_count": null,
   "id": "9a6bfd06-678c-4649-9f6d-f15db0062506",
   "metadata": {},
   "outputs": [],
   "source": [
    "df.plot(x='gdp_per_capita', y='life_expectancy', kind='scatter')"
   ]
  },
  {
   "cell_type": "code",
   "execution_count": null,
   "id": "e47f7fa8-895b-4dad-b6d0-dc392814a80f",
   "metadata": {},
   "outputs": [],
   "source": []
  },
  {
   "cell_type": "code",
   "execution_count": null,
   "id": "04163812-640f-4046-b03e-cf06e9454bb1",
   "metadata": {},
   "outputs": [],
   "source": [
    "import altair as alt\n",
    "\n",
    "alt.Chart(df).mark_circle(size=50)"
   ]
  },
  {
   "cell_type": "code",
   "execution_count": null,
   "id": "bf076d82-2582-4573-b13d-1beb6b52f98f",
   "metadata": {},
   "outputs": [],
   "source": []
  }
 ],
 "metadata": {
  "kernelspec": {
   "display_name": "Python 3 (ipykernel)",
   "language": "python",
   "name": "python3"
  },
  "language_info": {
   "codemirror_mode": {
    "name": "ipython",
    "version": 3
   },
   "file_extension": ".py",
   "mimetype": "text/x-python",
   "name": "python",
   "nbconvert_exporter": "python",
   "pygments_lexer": "ipython3",
   "version": "3.10.13"
  }
 },
 "nbformat": 4,
 "nbformat_minor": 5
}
